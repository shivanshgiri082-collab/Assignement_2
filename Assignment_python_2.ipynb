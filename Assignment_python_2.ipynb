{
  "nbformat": 4,
  "nbformat_minor": 0,
  "metadata": {
    "colab": {
      "provenance": []
    },
    "kernelspec": {
      "name": "python3",
      "display_name": "Python 3"
    },
    "language_info": {
      "name": "python"
    }
  },
  "cells": [
    {
      "cell_type": "markdown",
      "source": [
        "Assignment-2\n",
        "\n",
        "1. What are data structures, and why are they important?\n",
        "\n",
        "Data structures are ways of organizing and storing data in a computer so it can be used efficiently.\n",
        "They are important because they help in faster access, modification, and management of data.\n",
        "Example:\n",
        "•\tA list can store multiple items in order.\n",
        "•\tA dictionary allows fast lookup using keys.\n",
        "\n",
        "2. Explain the difference between mutable and immutable data types with examples.\n",
        "\n",
        "•\tMutable → Can be changed after creation.\n",
        "Example: list = [1,2,3]; list[0] = 10 → [10,2,3]\n",
        "•\tImmutable → Cannot be changed after creation.\n",
        "Example: tup = (1,2,3); tup[0] = 10 → Error\n",
        "\n",
        "3. What are the main differences between lists and tuples in Python?\n",
        "\n",
        "•\tList → Mutable, slower, written as [ ].\n",
        "•\tTuple → Immutable, faster, written as ( ).\n",
        "Example:\n",
        "list1 = [1,2,3]\n",
        "tuple1 = (1,2,3)\n",
        "\n",
        "4. Describe how dictionaries store data.\n",
        "\n",
        "\n",
        "Dictionaries store data in key–value pairs using a hash table internally.\n",
        "Example:\n",
        "student = {\"name\":\"Alex\", \"age\":20}\n",
        "Here \"name\" is the key, \"Alex\" is the value.\n",
        "\n",
        "5. Why might you use a set instead of a list in Python?\n",
        "\n",
        "\n",
        "•\tA set removes duplicates automatically.\n",
        "•\tChecking membership (in) is faster in a set than in a list.\n",
        "Example:\n",
        "list1 = [1,2,2,3]\n",
        "set1 = {1,2,3}\n",
        "\n",
        "6. What is a string in Python, and how is it different from a list?\n",
        "\n",
        "•\tA string is a sequence of characters (immutable).\n",
        "•\tA list is a collection of items (mutable).\n",
        "Example:\n",
        "s = \"hello\"   # Cannot change s[0]\n",
        "lst = ['h','e','l','l','o']  # Can change lst[0]\n",
        "\n",
        "7. How do tuples ensure data integrity in Python?\n",
        "\n",
        "Since tuples are immutable, the stored data cannot be modified accidentally.\n",
        "This makes them reliable for fixed data like coordinates (x,y).\n",
        "\n",
        "8. What is a hash table, and how does it relate to dictionaries in Python?\n",
        "\n",
        "A hash table is a data structure that maps keys to values using a hash function.\n",
        "In Python, dictionaries use hash tables to allow O(1) average-time lookup.\n",
        "\n",
        "9. Can lists contain different data types in Python?\n",
        "\n",
        "Yes\n",
        "Example:\n",
        "lst = [1, \"hello\", 3.5, True]\n",
        "\n",
        "10. Explain why strings are immutable in Python.\n",
        "\n",
        "Strings are immutable for memory efficiency and security.\n",
        "If multiple variables reference \"hello\", Python doesn’t need to copy it, saving memory.\n",
        "\n",
        "11. What advantages do dictionaries offer over lists for certain tasks?\n",
        "\n",
        "•\tFaster lookup using keys instead of indexes.\n",
        "•\tMore meaningful data storage with key–value pairs.\n",
        "Example: Searching a student’s marks by roll number is easier with a dictionary.\n",
        "\n",
        "12. Describe a scenario where using a tuple would be preferable over a list.\n",
        "\n",
        "When storing fixed data that should not change:\n",
        "Example: (latitude, longitude) for a location.\n",
        "\n",
        "13. How do sets handle duplicate values in Python?\n",
        "\n",
        "Sets remove duplicates automatically.\n",
        "set1 = {1,2,2,3}   # Output: {1,2,3}\n",
        "\n",
        "14. How does the “in” keyword work differently for lists and dictionaries?\n",
        "\n",
        "•\tFor list → checks if element exists in values.\n",
        "•\tFor dictionary → checks if element exists in keys.\n",
        "3 in [1,2,3]   # True\n",
        "\"name\" in {\"name\":\"Sam\"}  # True\n",
        "\n",
        "15. Can you modify the elements of a tuple? Explain why or why not.\n",
        "\n",
        "No.\n",
        "Tuples are immutable, meaning once created, their elements cannot be changed.\n",
        "\n",
        "16. What is a nested dictionary, and give an example of its use case.\n",
        "\n",
        "A nested dictionary is a dictionary inside another dictionary.\n",
        "Example:\n",
        "students = {\n",
        "  \"101\": {\"name\":\"Alex\", \"age\":20},\n",
        "  \"102\": {\"name\":\"Sam\", \"age\":22}\n",
        "}\n",
        "\n",
        "17. Describe the time complexity of accessing elements in a dictionary.\n",
        "\n",
        "•\tAverage case: O(1) (constant time).\n",
        "•\tWorst case (rare, hash collisions): O(n).\n",
        "\n",
        "18. In what situations are lists preferred over dictionaries?\n",
        "\n",
        "•\tWhen order of elements matters.\n",
        "•\tWhen you don’t need key–value pairs, only a sequence of items.\n",
        "Example: Storing marks [85, 90, 95].\n",
        "\n",
        "19. Why are dictionaries considered unordered, and how does that affect data retrieval?\n",
        "\n",
        "•\tDictionaries are logically unordered because data is stored based on hash values, not sequence.\n",
        "•\tIn Python 3.7+, insertion order is preserved, but you still cannot rely on indexing.\n",
        "\n",
        "20. Explain the difference between a list and a dictionary in terms of data retrieval.\n",
        "\n",
        "•\tList: Retrieve using index → list[0].\n",
        "•\tDictionary: Retrieve using key → dict[\"name\"].\n"
      ],
      "metadata": {
        "id": "3CV8_cjah85r"
      }
    },
    {
      "cell_type": "code",
      "execution_count": null,
      "metadata": {
        "colab": {
          "base_uri": "https://localhost:8080/"
        },
        "id": "ZZXUtlW1h6Vm",
        "outputId": "741f5da7-1b41-46b3-97ed-41db6d6f873d"
      },
      "outputs": [
        {
          "output_type": "stream",
          "name": "stdout",
          "text": [
            "shivansh Giri\n"
          ]
        }
      ],
      "source": [
        "#1.Write a code to create a string with your name and print it?\n",
        "name = \"shivansh Giri\"\n",
        "print(name)\n"
      ]
    },
    {
      "cell_type": "markdown",
      "source": [],
      "metadata": {
        "id": "TO2mztArh7Pe"
      }
    },
    {
      "cell_type": "code",
      "source": [
        "#Write a code to find the length of the string \"Hello World\"?\n",
        "length = len(\"Hello World\")\n",
        "print(length)"
      ],
      "metadata": {
        "colab": {
          "base_uri": "https://localhost:8080/"
        },
        "id": "nKICr7MejVTI",
        "outputId": "e296d989-bc0f-4a5c-8384-8afbc7649df3"
      },
      "execution_count": null,
      "outputs": [
        {
          "output_type": "stream",
          "name": "stdout",
          "text": [
            "11\n"
          ]
        }
      ]
    },
    {
      "cell_type": "code",
      "source": [
        "#3. Write a code to slice the first 3 characters from the string \"Python Programming\"?\n",
        "string = \"Python Programming\"\n",
        "sliced_string = string[0:3]\n",
        "print(sliced_string)"
      ],
      "metadata": {
        "colab": {
          "base_uri": "https://localhost:8080/"
        },
        "id": "riTVQf-yjpPs",
        "outputId": "c09f8d7e-5619-4e66-fa41-aa2890387e7e"
      },
      "execution_count": null,
      "outputs": [
        {
          "output_type": "stream",
          "name": "stdout",
          "text": [
            "Pyt\n"
          ]
        }
      ]
    },
    {
      "cell_type": "code",
      "source": [
        "#4. Write a code to convert the string \"hello\" to uppercase?\n",
        "string = \"hello\"\n",
        "upper_case = string.upper()\n",
        "print(upper_case)"
      ],
      "metadata": {
        "colab": {
          "base_uri": "https://localhost:8080/"
        },
        "id": "LaJ6ZueTjvgS",
        "outputId": "dd93052b-0b8c-4fad-8413-305984dea7b2"
      },
      "execution_count": null,
      "outputs": [
        {
          "output_type": "stream",
          "name": "stdout",
          "text": [
            "HELLO\n"
          ]
        }
      ]
    },
    {
      "cell_type": "code",
      "source": [
        "#5. Write a code to replace the word \"apple\" with \"orange\" in the string \"I like apple\"?\n",
        "string = \" i Like apple\"\n",
        "new_string = string.replace(\"apple\",\"Orange\")\n",
        "print(new_string)\n"
      ],
      "metadata": {
        "colab": {
          "base_uri": "https://localhost:8080/"
        },
        "id": "3UvLdFTMkALi",
        "outputId": "34d7d671-26fe-4b9b-bcae-28cae2981482"
      },
      "execution_count": null,
      "outputs": [
        {
          "output_type": "stream",
          "name": "stdout",
          "text": [
            " i Like Orange\n"
          ]
        }
      ]
    },
    {
      "cell_type": "code",
      "source": [
        "#6.Write a code to create a list with numbers 1 to 5 and print it?\n",
        "lis = [1,2,3,4,5]\n",
        "print(lis)"
      ],
      "metadata": {
        "colab": {
          "base_uri": "https://localhost:8080/"
        },
        "id": "e4s7lOKAkUG7",
        "outputId": "116f3a36-3d40-42cb-8300-c4caf29c2db0"
      },
      "execution_count": null,
      "outputs": [
        {
          "output_type": "stream",
          "name": "stdout",
          "text": [
            "[1, 2, 3, 4, 5]\n"
          ]
        }
      ]
    },
    {
      "cell_type": "code",
      "source": [
        "#7. Write a code to append the number 10 to the list [1, 2, 3, 4]\n",
        "lis = [1, 2, 3, 4]\n",
        "lis.append(10)\n",
        "print(lis)\n",
        "\n"
      ],
      "metadata": {
        "colab": {
          "base_uri": "https://localhost:8080/"
        },
        "id": "fR1fD-Lykdox",
        "outputId": "bc733805-b1f0-4853-f002-5b28b2553950"
      },
      "execution_count": null,
      "outputs": [
        {
          "output_type": "stream",
          "name": "stdout",
          "text": [
            "[1, 2, 3, 4, 10]\n"
          ]
        }
      ]
    },
    {
      "cell_type": "code",
      "source": [
        "#8. Write a code to remove the number 3 from the list [1, 2, 3, 4, 5]\n",
        "lis =[1, 2, 3, 4, 5]\n",
        "lis.remove(3)\n",
        "print(lis)\n"
      ],
      "metadata": {
        "colab": {
          "base_uri": "https://localhost:8080/"
        },
        "id": "yLJLtpXslp2w",
        "outputId": "ca0ddcd8-48cc-4a73-d5c5-30e1bf07b375"
      },
      "execution_count": null,
      "outputs": [
        {
          "output_type": "stream",
          "name": "stdout",
          "text": [
            "[1, 2, 4, 5]\n"
          ]
        }
      ]
    },
    {
      "cell_type": "code",
      "source": [
        "#9. Write a code to access the second element in the list ['a', 'b', 'c', 'd']\n",
        "lis = ['a', 'b', 'c', 'd']\n",
        "access_list = lis[1]\n",
        "print(access_list)\n"
      ],
      "metadata": {
        "colab": {
          "base_uri": "https://localhost:8080/"
        },
        "id": "2nLbaye-l4hU",
        "outputId": "86ee0677-707e-4453-af2a-c94a2a7ebf0b"
      },
      "execution_count": null,
      "outputs": [
        {
          "output_type": "stream",
          "name": "stdout",
          "text": [
            "b\n"
          ]
        }
      ]
    },
    {
      "cell_type": "code",
      "source": [
        "#10. Write a code to reverse the list [10, 20, 30, 40, 50]\n",
        "lis = [10, 20, 30, 40, 50]\n",
        "reverse_lis = lis[::-1]\n",
        "print(reverse_lis)\n"
      ],
      "metadata": {
        "colab": {
          "base_uri": "https://localhost:8080/"
        },
        "id": "5IRFmZiYmYm7",
        "outputId": "47403677-abd0-4623-9c0d-f3e461718d5f"
      },
      "execution_count": null,
      "outputs": [
        {
          "output_type": "stream",
          "name": "stdout",
          "text": [
            "[50, 40, 30, 20, 10]\n"
          ]
        }
      ]
    },
    {
      "cell_type": "code",
      "source": [
        "#11. Write a code to create a tuple with the elements 100, 200, 300 and print it.\n",
        "tup = (100,200,300)\n",
        "print(tup)\n"
      ],
      "metadata": {
        "colab": {
          "base_uri": "https://localhost:8080/"
        },
        "id": "0M_wVhFgmjLb",
        "outputId": "488725ac-01bc-4266-fe0b-3b62c59f03b4"
      },
      "execution_count": null,
      "outputs": [
        {
          "output_type": "stream",
          "name": "stdout",
          "text": [
            "(100, 200, 300)\n"
          ]
        }
      ]
    },
    {
      "cell_type": "code",
      "source": [
        "#12. Write a code to access the second-to-last element of the tuple ('red', 'green', 'blue', 'yellow')\n",
        "tuple =('red', 'green', 'blue', 'yellow')\n",
        "second_last = tuple[-2]\n",
        "print(second_last)\n"
      ],
      "metadata": {
        "colab": {
          "base_uri": "https://localhost:8080/"
        },
        "id": "M3M2Lse2mse8",
        "outputId": "f3f99c3a-8c70-44b4-9ab3-4f0f5d4096ac"
      },
      "execution_count": null,
      "outputs": [
        {
          "output_type": "stream",
          "name": "stdout",
          "text": [
            "blue\n"
          ]
        }
      ]
    },
    {
      "cell_type": "code",
      "source": [
        "#13. Write a code to find the minimum number in the tuple (10, 20, 5, 15).\n",
        "num = (10, 20, 5, 15)\n",
        "print(min(num))\n"
      ],
      "metadata": {
        "colab": {
          "base_uri": "https://localhost:8080/"
        },
        "id": "BGBphlrmmz8z",
        "outputId": "122de699-d936-44de-c54b-a552a7d87103"
      },
      "execution_count": null,
      "outputs": [
        {
          "output_type": "stream",
          "name": "stdout",
          "text": [
            "5\n"
          ]
        }
      ]
    },
    {
      "cell_type": "code",
      "source": [
        "from ast import Index\n",
        "#14.Write a code to find the index of the element \"cat\" in the tuple ('dog', 'cat', 'rabbit')\n",
        "tup = ('dog', 'cat', 'rabbit')\n",
        "print(tup.index(\"cat\"))\n"
      ],
      "metadata": {
        "colab": {
          "base_uri": "https://localhost:8080/"
        },
        "id": "2u-p-JiYnCZr",
        "outputId": "7b9223a5-80f1-4788-9f9e-b0fceeac102f"
      },
      "execution_count": null,
      "outputs": [
        {
          "output_type": "stream",
          "name": "stdout",
          "text": [
            "1\n"
          ]
        }
      ]
    },
    {
      "cell_type": "code",
      "source": [
        "#15. Write a code to create a tuple containing three different fruits and check if \"kiwi\" is in it.\n",
        "\n",
        "fruits = (\"apple\", \"banana\", \"orange\")\n",
        "if \"kiwi\" in fruits:\n",
        "    print(\"kiwi is in the tuple\")\n",
        "else:\n",
        "    print(\"kiwi is not in the tuple\")"
      ],
      "metadata": {
        "colab": {
          "base_uri": "https://localhost:8080/"
        },
        "id": "TUerU6HanZgm",
        "outputId": "5ec6853a-6055-4125-c496-649e13e593fe"
      },
      "execution_count": null,
      "outputs": [
        {
          "output_type": "stream",
          "name": "stdout",
          "text": [
            "kiwi is not in the tuple\n"
          ]
        }
      ]
    },
    {
      "cell_type": "code",
      "source": [
        "#16. Write a code to create a set with the elements 'a', 'b', 'c' and print it.\n",
        "elements = {\"a\", \"b\", \"c\"}\n",
        "print(elements)\n",
        "\n"
      ],
      "metadata": {
        "colab": {
          "base_uri": "https://localhost:8080/"
        },
        "id": "7JlwOu9ZnpaI",
        "outputId": "dce5b17d-bdcc-4c53-f194-177000b1e53d"
      },
      "execution_count": null,
      "outputs": [
        {
          "output_type": "stream",
          "name": "stdout",
          "text": [
            "{'a', 'b', 'c'}\n"
          ]
        }
      ]
    },
    {
      "cell_type": "code",
      "source": [
        "# 17. Write a code to clear all elements from the set {1, 2, 3, 4, 5}.\n",
        "s = {1,2,3,4,5}\n",
        "s.clear()\n",
        "print(s)\n"
      ],
      "metadata": {
        "colab": {
          "base_uri": "https://localhost:8080/"
        },
        "id": "Pk5damGzn2QY",
        "outputId": "74a2d8fd-9234-41ad-b795-b09df311b2b9"
      },
      "execution_count": null,
      "outputs": [
        {
          "output_type": "stream",
          "name": "stdout",
          "text": [
            "set()\n"
          ]
        }
      ]
    },
    {
      "cell_type": "code",
      "source": [
        "# 18. Write a code to remove the element 4 from the set {1, 2, 3, 4}.\n",
        "\n",
        "num = {1,2,3,4}\n",
        "num.remove(4)\n",
        "print(num)\n"
      ],
      "metadata": {
        "colab": {
          "base_uri": "https://localhost:8080/"
        },
        "id": "NkUR8LnMoF9x",
        "outputId": "d0652422-18bf-4d9a-efbd-b888106981b8"
      },
      "execution_count": null,
      "outputs": [
        {
          "output_type": "stream",
          "name": "stdout",
          "text": [
            "{1, 2, 3}\n"
          ]
        }
      ]
    },
    {
      "cell_type": "code",
      "source": [
        "#19. Write a code to find the union of two sets {1, 2, 3} and {3, 4, 5}\n",
        "a = {1,2,3}\n",
        "b = {3,4,5}\n",
        "print(a.union(b))\n"
      ],
      "metadata": {
        "colab": {
          "base_uri": "https://localhost:8080/"
        },
        "id": "-f1UX--woUA5",
        "outputId": "4b5dac00-22ec-4aa8-a84d-4209d8c3fbaa"
      },
      "execution_count": null,
      "outputs": [
        {
          "output_type": "stream",
          "name": "stdout",
          "text": [
            "{1, 2, 3, 4, 5}\n"
          ]
        }
      ]
    },
    {
      "cell_type": "code",
      "source": [
        "#20. Write a code to find the intersection of two sets {1, 2, 3} and {2, 3, 4}.\n",
        "a = {1,2,3}\n",
        "b = {2,3,4}\n",
        "print(a.intersection(b))"
      ],
      "metadata": {
        "colab": {
          "base_uri": "https://localhost:8080/"
        },
        "id": "EgXHQk90o9hE",
        "outputId": "fe740142-744e-47b8-a06b-5e200090b21b"
      },
      "execution_count": null,
      "outputs": [
        {
          "output_type": "stream",
          "name": "stdout",
          "text": [
            "{2, 3}\n"
          ]
        }
      ]
    },
    {
      "cell_type": "code",
      "source": [
        "#21.  Write a code to create a dictionary with the keys \"name\", \"age\", and \"city\", and print it.\n",
        "dic = {\"name\":\"aman\",\"age\":24,\"city\":\"Delhi\"}\n",
        "print(dic)"
      ],
      "metadata": {
        "colab": {
          "base_uri": "https://localhost:8080/"
        },
        "id": "A9tzBVP2pQgd",
        "outputId": "d4951382-ba56-463b-cf2f-525289633ae6"
      },
      "execution_count": null,
      "outputs": [
        {
          "output_type": "stream",
          "name": "stdout",
          "text": [
            "{'name': 'aman', 'age': 24, 'city': 'Delhi'}\n"
          ]
        }
      ]
    },
    {
      "cell_type": "code",
      "source": [
        "#22. Write a code to add a new key-value pair \"country\": \"USA\" to the dictionary {'name': 'John', 'age': 25}\n",
        "dic = {'name': 'John', 'age': 25}\n",
        "dic['Country']=\"USA\"\n",
        "print(dic)\n"
      ],
      "metadata": {
        "colab": {
          "base_uri": "https://localhost:8080/"
        },
        "id": "nFn4UZ2ZpZz5",
        "outputId": "03489955-e1bd-4d57-a452-9381c57bd279"
      },
      "execution_count": null,
      "outputs": [
        {
          "output_type": "stream",
          "name": "stdout",
          "text": [
            "{'name': 'John', 'age': 25, 'Country': 'USA'}\n"
          ]
        }
      ]
    },
    {
      "cell_type": "code",
      "source": [
        "#23. Write a code to access the value associated with the key \"name\" in the dictionary {'name': 'Alice', 'age': 30}\n",
        "dic = {'name':'Alice','age':30}\n",
        "print(dic[\"name\"])\n"
      ],
      "metadata": {
        "colab": {
          "base_uri": "https://localhost:8080/"
        },
        "id": "zfYYHr6dphu7",
        "outputId": "c6166e8c-d390-4978-c049-af6b9e1d1212"
      },
      "execution_count": null,
      "outputs": [
        {
          "output_type": "stream",
          "name": "stdout",
          "text": [
            "Alice\n"
          ]
        }
      ]
    },
    {
      "cell_type": "code",
      "source": [
        "#24. Write a code to remove the key \"age\" from the dictionary {'name': 'Bob', 'age': 22, 'city': 'New York'}\n",
        "dic = {'name':'Bob','age':22,'city':'New York'}\n",
        "dic.pop(\"age\")\n",
        "print(dic)\n"
      ],
      "metadata": {
        "colab": {
          "base_uri": "https://localhost:8080/"
        },
        "id": "WBgonaeJp6WP",
        "outputId": "ab43ebca-7f67-417a-9164-aa15be308fda"
      },
      "execution_count": null,
      "outputs": [
        {
          "output_type": "stream",
          "name": "stdout",
          "text": [
            "{'name': 'Bob', 'city': 'New York'}\n"
          ]
        }
      ]
    },
    {
      "cell_type": "code",
      "source": [
        "# 25. Write a code to check if the key \"city\" exists in the dictionary {'name': 'Alice', 'city': 'Paris'}.\n",
        "dic = {'name':'Alice','city':'Paris'}\n",
        "if \"city\" in dic:\n",
        "    print(\"city exists\")"
      ],
      "metadata": {
        "colab": {
          "base_uri": "https://localhost:8080/"
        },
        "id": "QLqE80nbqTIr",
        "outputId": "955dda82-39d6-42e5-c681-e8468cc8594d"
      },
      "execution_count": null,
      "outputs": [
        {
          "output_type": "stream",
          "name": "stdout",
          "text": [
            "city exists\n"
          ]
        }
      ]
    },
    {
      "cell_type": "code",
      "source": [
        "# 26. Write a code to create a list, a tuple, and a dictionary, and print them all\n",
        "lis = [1,2,3,4]\n",
        "tup = (1,2,4,5)\n",
        "dic = {\"name\":\"Sachin\",\"age\":24,\"address\":\"Delhi\"}\n",
        "print(lis, tup, dic)"
      ],
      "metadata": {
        "colab": {
          "base_uri": "https://localhost:8080/"
        },
        "id": "5BrzxeDNqaRK",
        "outputId": "af5493ea-9b2c-49f4-e898-01ef730b26ca"
      },
      "execution_count": null,
      "outputs": [
        {
          "output_type": "stream",
          "name": "stdout",
          "text": [
            "[1, 2, 3, 4] (1, 2, 4, 5) {'name': 'Sachin', 'age': 24, 'address': 'Delhi'}\n"
          ]
        }
      ]
    },
    {
      "cell_type": "code",
      "source": [
        "# 27.  Write a code to create a list of 5 random numbers between 1 and 100, sort it in ascending order, and print the result.(replaced)\n",
        "import random\n",
        "random_numbers = [random.randint(1,100) for i in range(5)]\n",
        "random_numbers.sort()\n",
        "print(random_numbers)"
      ],
      "metadata": {
        "colab": {
          "base_uri": "https://localhost:8080/"
        },
        "id": "nR0wQM0lqlyQ",
        "outputId": "5c739378-2007-4125-f1f3-fe66aa1e24ba"
      },
      "execution_count": null,
      "outputs": [
        {
          "output_type": "stream",
          "name": "stdout",
          "text": [
            "[22, 68, 83, 83, 85]\n"
          ]
        }
      ]
    },
    {
      "cell_type": "code",
      "source": [
        "#28. Write a code to create a list with strings and print the element at the third index.\n",
        "lst = [1,2,\"Sachin\",\"alok\",\"vinod\"]\n",
        "third_num = lst[3]\n",
        "print(third_num)"
      ],
      "metadata": {
        "colab": {
          "base_uri": "https://localhost:8080/"
        },
        "id": "I1i-oNscqsf0",
        "outputId": "5f2bba24-c2cf-434d-9ee2-b81c6f52dbd9"
      },
      "execution_count": null,
      "outputs": [
        {
          "output_type": "stream",
          "name": "stdout",
          "text": [
            "alok\n"
          ]
        }
      ]
    },
    {
      "cell_type": "code",
      "source": [
        "# 29. Write a code to combine two dictionaries into one and print the result.\n",
        "a = {\"name\": \"Sachin\", \"age\": 24, \"address\": \"Delhi\"}\n",
        "b = {\"city\": \"Bhopal\", \"country\": \"India\"}\n",
        "\n",
        "a.update(b)\n",
        "print(a)"
      ],
      "metadata": {
        "colab": {
          "base_uri": "https://localhost:8080/"
        },
        "id": "zILBWqQlrA9T",
        "outputId": "b279aad8-5b41-4a00-aa29-096190bed2cb"
      },
      "execution_count": 59,
      "outputs": [
        {
          "output_type": "stream",
          "name": "stdout",
          "text": [
            "{'name': 'Sachin', 'age': 24, 'address': 'Delhi', 'city': 'Bhopal', 'country': 'India'}\n"
          ]
        }
      ]
    },
    {
      "cell_type": "code",
      "source": [
        "# 30.Write a code to convert a list of strings into a set.\n",
        "lst = [\"Sachin\",\"apple\",\"banana\"]\n",
        "converlist = set(lst)\n",
        "print(converlist)"
      ],
      "metadata": {
        "colab": {
          "base_uri": "https://localhost:8080/"
        },
        "id": "ENS8A3zMrRLq",
        "outputId": "d13bcf6e-463a-4aeb-d8bf-a7c1320700aa"
      },
      "execution_count": null,
      "outputs": [
        {
          "output_type": "stream",
          "name": "stdout",
          "text": [
            "{'banana', 'Sachin', 'apple'}\n"
          ]
        }
      ]
    }
  ]
}